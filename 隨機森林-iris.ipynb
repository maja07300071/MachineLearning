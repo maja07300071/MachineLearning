{
  "nbformat": 4,
  "nbformat_minor": 0,
  "metadata": {
    "colab": {
      "provenance": []
    },
    "kernelspec": {
      "name": "python3",
      "display_name": "Python 3"
    },
    "language_info": {
      "name": "python"
    }
  },
  "cells": [
    {
      "cell_type": "code",
      "execution_count": null,
      "metadata": {
        "id": "bjJPJepLgOWF"
      },
      "outputs": [],
      "source": [
        "from sklearn.ensemble import RandomForestClassifier\n",
        "from sklearn.datasets import load_iris\n",
        "from sklearn.model_selection import train_test_split"
      ]
    },
    {
      "cell_type": "code",
      "source": [
        "# 讀入鳶尾花資料\n",
        "iris = load_iris()\n",
        "iris_data = iris.data\n",
        "iris_label = iris.target"
      ],
      "metadata": {
        "id": "A7lpM1m-gVt3"
      },
      "execution_count": null,
      "outputs": []
    },
    {
      "cell_type": "code",
      "source": [
        "# 切分訓練與測試資料\n",
        "train_data, test_data, train_label, test_label = train_test_split(iris_data, iris_label, test_size = 0.3)\n"
      ],
      "metadata": {
        "id": "Cqv18rcPgVyz"
      },
      "execution_count": null,
      "outputs": []
    },
    {
      "cell_type": "code",
      "source": [
        "# 建立分類器\n",
        "clf = RandomForestClassifier(n_estimators=30, max_depth=4)\n",
        "iris_clf = clf.fit(train_data, train_label)\n",
        "print(\"訓練資料正確率:\",clf.score(train_data,train_label)) # 訓練資料正確率\n",
        "print(\"測試資料正確率:\",clf.score(test_data, test_label)) # 測試資料正確率"
      ],
      "metadata": {
        "colab": {
          "base_uri": "https://localhost:8080/"
        },
        "id": "JuR32cXKgV_6",
        "outputId": "719063f7-4243-4b3f-e41b-ff2614ce397c"
      },
      "execution_count": null,
      "outputs": [
        {
          "output_type": "stream",
          "name": "stdout",
          "text": [
            "訓練資料正確率: 0.9809523809523809\n",
            "測試資料正確率: 0.9555555555555556\n"
          ]
        }
      ]
    }
  ]
}